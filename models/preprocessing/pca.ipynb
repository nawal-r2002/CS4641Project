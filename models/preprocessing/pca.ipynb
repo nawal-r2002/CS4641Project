{
 "cells": [
  {
   "cell_type": "code",
   "execution_count": 38,
   "metadata": {},
   "outputs": [],
   "source": [
    "import pandas as pd\n",
    "from sklearn.decomposition import PCA\n",
    "from sklearn.preprocessing import StandardScaler\n",
    "import matplotlib.pyplot as plt\n",
    "import numpy as np\n",
    "import os"
   ]
  },
  {
   "cell_type": "code",
   "execution_count": 50,
   "metadata": {},
   "outputs": [],
   "source": [
    "numSamples = 204\n",
    "\n",
    "base_dir = os.path.abspath(os.path.join(os.getcwd(), '../..'))\n",
    "dataset = pd.read_csv(base_dir+'\\dataset.csv', header=None)\n",
    "# print(dataset)\n",
    "data_arr = dataset.to_numpy()\n",
    "# print(data_arr.shape)\n",
    "data_arr = data_arr.reshape(15, 204)\n",
    "# print(data_arr[0, :])\n",
    "data_arr = data_arr.T\n",
    "# print(data_arr[0, :])\n",
    "\n",
    "new_dataset = pd.DataFrame(data_arr, columns=['Patient', 'Direction', 'Magnitude', 'Cz_1', 'Cz_2',\n",
    "                                           'Cz_3', 'Cz_4', 'Agonist_1', 'Agonist_2', 'Agonist_3', \n",
    "                                           'Agonist_4', 'Agonist_5', 'Agonist_6', 'Agonist_7', 'Agonist_8'])\n",
    "new_dataset.to_csv(base_dir+'\\\\transformed_dataset.csv')"
   ]
  },
  {
   "cell_type": "markdown",
   "metadata": {},
   "source": [
    "### Extract the Inputs of the Model"
   ]
  },
  {
   "cell_type": "code",
   "execution_count": 61,
   "metadata": {},
   "outputs": [
    {
     "data": {
      "text/html": [
       "<div>\n",
       "<style scoped>\n",
       "    .dataframe tbody tr th:only-of-type {\n",
       "        vertical-align: middle;\n",
       "    }\n",
       "\n",
       "    .dataframe tbody tr th {\n",
       "        vertical-align: top;\n",
       "    }\n",
       "\n",
       "    .dataframe thead th {\n",
       "        text-align: right;\n",
       "    }\n",
       "</style>\n",
       "<table border=\"1\" class=\"dataframe\">\n",
       "  <thead>\n",
       "    <tr style=\"text-align: right;\">\n",
       "      <th></th>\n",
       "      <th>Cz_1</th>\n",
       "      <th>Cz_2</th>\n",
       "      <th>Cz_3</th>\n",
       "      <th>Cz_4</th>\n",
       "    </tr>\n",
       "  </thead>\n",
       "  <tbody>\n",
       "    <tr>\n",
       "      <th>0</th>\n",
       "      <td>8.868028</td>\n",
       "      <td>0.004679</td>\n",
       "      <td>0.0</td>\n",
       "      <td>0.120726</td>\n",
       "    </tr>\n",
       "    <tr>\n",
       "      <th>1</th>\n",
       "      <td>5.472525</td>\n",
       "      <td>0.00536</td>\n",
       "      <td>0.0</td>\n",
       "      <td>0.117504</td>\n",
       "    </tr>\n",
       "    <tr>\n",
       "      <th>2</th>\n",
       "      <td>3.572469</td>\n",
       "      <td>0.000806</td>\n",
       "      <td>0.004902</td>\n",
       "      <td>0.110458</td>\n",
       "    </tr>\n",
       "    <tr>\n",
       "      <th>3</th>\n",
       "      <td>5.825121</td>\n",
       "      <td>0.008002</td>\n",
       "      <td>0.0</td>\n",
       "      <td>0.125151</td>\n",
       "    </tr>\n",
       "    <tr>\n",
       "      <th>4</th>\n",
       "      <td>4.953459</td>\n",
       "      <td>0.002775</td>\n",
       "      <td>0.0</td>\n",
       "      <td>0.113535</td>\n",
       "    </tr>\n",
       "    <tr>\n",
       "      <th>...</th>\n",
       "      <td>...</td>\n",
       "      <td>...</td>\n",
       "      <td>...</td>\n",
       "      <td>...</td>\n",
       "    </tr>\n",
       "    <tr>\n",
       "      <th>199</th>\n",
       "      <td>5.147386</td>\n",
       "      <td>0.00587</td>\n",
       "      <td>0.015937</td>\n",
       "      <td>0.124509</td>\n",
       "    </tr>\n",
       "    <tr>\n",
       "      <th>200</th>\n",
       "      <td>3.827869</td>\n",
       "      <td>0.006816</td>\n",
       "      <td>0.0</td>\n",
       "      <td>0.113573</td>\n",
       "    </tr>\n",
       "    <tr>\n",
       "      <th>201</th>\n",
       "      <td>7.105425</td>\n",
       "      <td>0.011162</td>\n",
       "      <td>0.0</td>\n",
       "      <td>0.136039</td>\n",
       "    </tr>\n",
       "    <tr>\n",
       "      <th>202</th>\n",
       "      <td>4.153222</td>\n",
       "      <td>0.007191</td>\n",
       "      <td>0.0</td>\n",
       "      <td>0.125558</td>\n",
       "    </tr>\n",
       "    <tr>\n",
       "      <th>203</th>\n",
       "      <td>3.730875</td>\n",
       "      <td>0.007418</td>\n",
       "      <td>0.0</td>\n",
       "      <td>0.114774</td>\n",
       "    </tr>\n",
       "  </tbody>\n",
       "</table>\n",
       "<p>204 rows × 4 columns</p>\n",
       "</div>"
      ],
      "text/plain": [
       "         Cz_1      Cz_2      Cz_3      Cz_4\n",
       "0    8.868028  0.004679       0.0  0.120726\n",
       "1    5.472525   0.00536       0.0  0.117504\n",
       "2    3.572469  0.000806  0.004902  0.110458\n",
       "3    5.825121  0.008002       0.0  0.125151\n",
       "4    4.953459  0.002775       0.0  0.113535\n",
       "..        ...       ...       ...       ...\n",
       "199  5.147386   0.00587  0.015937  0.124509\n",
       "200  3.827869  0.006816       0.0  0.113573\n",
       "201  7.105425  0.011162       0.0  0.136039\n",
       "202  4.153222  0.007191       0.0  0.125558\n",
       "203  3.730875  0.007418       0.0  0.114774\n",
       "\n",
       "[204 rows x 4 columns]"
      ]
     },
     "execution_count": 61,
     "metadata": {},
     "output_type": "execute_result"
    }
   ],
   "source": [
    "input = new_dataset.drop(new_dataset.columns[[0,1,2, 7,8,9,10,11,12,13,14]], axis = 1)\n",
    "input_arr = input.to_numpy()\n",
    "input"
   ]
  },
  {
   "cell_type": "markdown",
   "metadata": {},
   "source": [
    "### Complete PCA and find Principal Components"
   ]
  },
  {
   "cell_type": "code",
   "execution_count": 64,
   "metadata": {},
   "outputs": [
    {
     "name": "stdout",
     "output_type": "stream",
     "text": [
      "(204, 4)\n"
     ]
    },
    {
     "data": {
      "text/plain": [
       "array([[ 0.51588385,  0.63279668,  0.30026758,  0.4932257 ],\n",
       "       [-0.09330236, -0.0145145 ,  0.89772818, -0.43031164],\n",
       "       [ 0.75366247, -0.02799775, -0.21888433, -0.61911118],\n",
       "       [-0.39642326,  0.77367552, -0.23667095, -0.43389128]])"
      ]
     },
     "execution_count": 64,
     "metadata": {},
     "output_type": "execute_result"
    }
   ],
   "source": [
    "scaling = StandardScaler()\n",
    "\n",
    "scaling.fit(input)\n",
    "scaled_data = scaling.transform(input)\n",
    "\n",
    "principal_comp = PCA(n_components=4)\n",
    "principal_comp.fit(scaled_data)\n",
    "x = principal_comp.transform(scaled_data)\n",
    "\n",
    "print(x.shape)\n",
    "principal_comp.components_"
   ]
  },
  {
   "cell_type": "markdown",
   "metadata": {},
   "source": [
    "### Generate Plots"
   ]
  },
  {
   "cell_type": "code",
   "execution_count": null,
   "metadata": {},
   "outputs": [],
   "source": []
  }
 ],
 "metadata": {
  "kernelspec": {
   "display_name": "MLFinalProject",
   "language": "python",
   "name": "python3"
  },
  "language_info": {
   "codemirror_mode": {
    "name": "ipython",
    "version": 3
   },
   "file_extension": ".py",
   "mimetype": "text/x-python",
   "name": "python",
   "nbconvert_exporter": "python",
   "pygments_lexer": "ipython3",
   "version": "3.11.9"
  }
 },
 "nbformat": 4,
 "nbformat_minor": 2
}
