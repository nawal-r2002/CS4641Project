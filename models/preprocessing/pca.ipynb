{
 "cells": [
  {
   "cell_type": "code",
   "execution_count": 3,
   "metadata": {},
   "outputs": [],
   "source": [
    "import pandas as pd\n",
    "from sklearn.decomposition import PCA\n",
    "from sklearn.preprocessing import StandardScaler\n",
    "import matplotlib.pyplot as plt\n",
    "import numpy as np\n",
    "import os"
   ]
  },
  {
   "cell_type": "code",
   "execution_count": 35,
   "metadata": {},
   "outputs": [
    {
     "name": "stdout",
     "output_type": "stream",
     "text": [
      "    0      1      2      3      4      5      6      7      8      9     ...  \\\n",
      "0  HOA02  HOA02  HOA02  HOA02  HOA02  HOA02  HOA03  HOA03  HOA03  HOA03  ...   \n",
      "\n",
      "      3050      3051 3052 3053      3054      3055      3056      3057  \\\n",
      "0  0.19945  0.242655  0.3  0.3  0.178098  0.265782  0.154369  0.173542   \n",
      "\n",
      "       3058 3059  \n",
      "0  0.167595  0.3  \n",
      "\n",
      "[1 rows x 3060 columns]\n",
      "(1, 3060)\n",
      "['HOA02' 'HOA02' 'HOA02' 'HOA02' 'HOA02' 'HOA02' 'HOA03' 'HOA03' 'HOA03'\n",
      " 'HOA03' 'HOA03' 'HOA03' 'HOA04' 'HOA04' 'HOA04' 'HOA04' 'HOA04' 'HOA04'\n",
      " 'HOA05' 'HOA05' 'HOA05' 'HOA05' 'HOA05' 'HOA05' 'HOA06' 'HOA06' 'HOA06'\n",
      " 'HOA06' 'HOA06' 'HOA06' 'HOA07' 'HOA07' 'HOA07' 'HOA07' 'HOA07' 'HOA07'\n",
      " 'HOA08' 'HOA08' 'HOA08' 'HOA08' 'HOA08' 'HOA08' 'HOA09' 'HOA09' 'HOA09'\n",
      " 'HOA09' 'HOA09' 'HOA09' 'HOA11' 'HOA11' 'HOA11' 'HOA11' 'HOA11' 'HOA11'\n",
      " 'HOA12' 'HOA12' 'HOA12' 'HOA12' 'HOA12' 'HOA12' 'HOA13' 'HOA13' 'HOA13'\n",
      " 'HOA13' 'HOA13' 'HOA13' 'HOA14' 'HOA14' 'HOA14' 'HOA14' 'HOA14' 'HOA14'\n",
      " 'HOA15' 'HOA15' 'HOA15' 'HOA15' 'HOA15' 'HOA15' 'HOA16' 'HOA16' 'HOA16'\n",
      " 'HOA16' 'HOA16' 'HOA16' 'HOA17' 'HOA17' 'HOA17' 'HOA17' 'HOA17' 'HOA17'\n",
      " 'HOA18' 'HOA18' 'HOA18' 'HOA18' 'HOA18' 'HOA18' 'HOA19' 'HOA19' 'HOA19'\n",
      " 'HOA19' 'HOA19' 'HOA19' 'HOA20' 'HOA20' 'HOA20' 'HOA20' 'HOA20' 'HOA20'\n",
      " 'PD02' 'PD02' 'PD02' 'PD02' 'PD02' 'PD02' 'PD03' 'PD03' 'PD03' 'PD03'\n",
      " 'PD03' 'PD03' 'PD04' 'PD04' 'PD04' 'PD04' 'PD04' 'PD04' 'PD05' 'PD05'\n",
      " 'PD05' 'PD05' 'PD05' 'PD05' 'PD06' 'PD06' 'PD06' 'PD06' 'PD06' 'PD06'\n",
      " 'PD08' 'PD08' 'PD08' 'PD08' 'PD08' 'PD08' 'PD09' 'PD09' 'PD09' 'PD09'\n",
      " 'PD09' 'PD09' 'PD10' 'PD10' 'PD10' 'PD10' 'PD10' 'PD10' 'PD11' 'PD11'\n",
      " 'PD11' 'PD11' 'PD11' 'PD11' 'PD12' 'PD12' 'PD12' 'PD12' 'PD12' 'PD12'\n",
      " 'PD13' 'PD13' 'PD13' 'PD13' 'PD13' 'PD13' 'PD14' 'PD14' 'PD14' 'PD14'\n",
      " 'PD14' 'PD14' 'PD15' 'PD15' 'PD15' 'PD15' 'PD15' 'PD15' 'PD18' 'PD18'\n",
      " 'PD18' 'PD18' 'PD18' 'PD18' 'PD20' 'PD20' 'PD20' 'PD20' 'PD20' 'PD20'\n",
      " 'PD21' 'PD21' 'PD21' 'PD21' 'PD21' 'PD21']\n",
      "['HOA02' 90 5 8.868028199 0.004678834 7.25e-10 0.120725838 8.705701119\n",
      " 0.003415522 0.004435072 0.113815915 3.777186788 1.02e-06 1.19e-06\n",
      " 0.234191366]\n"
     ]
    }
   ],
   "source": [
    "numSamples = 204\n",
    "\n",
    "base_dir = os.path.abspath(os.path.join(os.getcwd(), '../..'))\n",
    "dataset = pd.read_csv(base_dir+'\\dataset.csv', header=None)\n",
    "print(dataset)\n",
    "data_arr = dataset.to_numpy()\n",
    "print(data_arr.shape)\n",
    "# data_arr = data_arr.T\n",
    "# print(data_arr)\n",
    "data_arr = data_arr.reshape(15, 204)\n",
    "print(data_arr[0, :])\n",
    "data_arr = data_arr.T\n",
    "print(data_arr[0, :])"
   ]
  },
  {
   "cell_type": "code",
   "execution_count": null,
   "metadata": {},
   "outputs": [],
   "source": [
    "\n"
   ]
  }
 ],
 "metadata": {
  "kernelspec": {
   "display_name": "MLFinalProject",
   "language": "python",
   "name": "python3"
  },
  "language_info": {
   "codemirror_mode": {
    "name": "ipython",
    "version": 3
   },
   "file_extension": ".py",
   "mimetype": "text/x-python",
   "name": "python",
   "nbconvert_exporter": "python",
   "pygments_lexer": "ipython3",
   "version": "3.11.9"
  }
 },
 "nbformat": 4,
 "nbformat_minor": 2
}
