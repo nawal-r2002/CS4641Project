{
 "cells": [
  {
   "cell_type": "code",
   "execution_count": 38,
   "metadata": {},
   "outputs": [],
   "source": [
    "import pandas as pd\n",
    "from sklearn.decomposition import PCA\n",
    "from sklearn.preprocessing import StandardScaler\n",
    "import matplotlib.pyplot as plt\n",
    "import numpy as np\n",
    "import os"
   ]
  },
  {
   "cell_type": "code",
   "execution_count": 41,
   "metadata": {},
   "outputs": [
    {
     "name": "stdout",
     "output_type": "stream",
     "text": [
      "    Patient Direction Magnitude      Cz_1      Cz_2      Cz_3      Cz_4  \\\n",
      "0     HOA02        90         5  8.868028  0.004679       0.0  0.120726   \n",
      "1     HOA02        90       7.5  5.472525   0.00536       0.0  0.117504   \n",
      "2     HOA02        90        10  3.572469  0.000806  0.004902  0.110458   \n",
      "3     HOA02       270         5  5.825121  0.008002       0.0  0.125151   \n",
      "4     HOA02       270       7.5  4.953459  0.002775       0.0  0.113535   \n",
      "..      ...       ...       ...       ...       ...       ...       ...   \n",
      "199    PD21        90       7.5  5.147386   0.00587  0.015937  0.124509   \n",
      "200    PD21        90        10  3.827869  0.006816       0.0  0.113573   \n",
      "201    PD21       270         5  7.105425  0.011162       0.0  0.136039   \n",
      "202    PD21       270       7.5  4.153222  0.007191       0.0  0.125558   \n",
      "203    PD21       270        10  3.730875  0.007418       0.0  0.114774   \n",
      "\n",
      "    Agonist_1 Agonist_2 Agonist_3 Agonist_4 Agonist_5 Agonist_6 Agonist_7  \\\n",
      "0    8.705701  0.003416  0.004435  0.113816  3.777187  0.000001  0.000001   \n",
      "1    5.334891  0.007539  0.024699  0.100647  2.794686  0.000001  0.003104   \n",
      "2    3.284545  0.012409  0.023342  0.103776  1.132741  0.000001  0.003885   \n",
      "3    4.594461   0.00333       0.0      0.25  4.594461       0.0       0.0   \n",
      "4    4.585228  0.021261  0.000001  0.114514  2.517051  0.000001  0.000001   \n",
      "..        ...       ...       ...       ...       ...       ...       ...   \n",
      "199  5.921872  0.012594      0.04   0.12452  1.415653  0.002328  0.010001   \n",
      "200  2.879395  0.009931  0.038987  0.101348  1.068218  0.000898  0.002792   \n",
      "201  6.532149  0.007053  0.047868  0.105169  2.303571  0.000001  0.001725   \n",
      "202  4.675326   0.01259  0.025476  0.107314  2.073807       0.0  0.001556   \n",
      "203  3.453833  0.003599  0.018712      0.25   3.45243       0.0  0.000373   \n",
      "\n",
      "    Agonist_8  \n",
      "0    0.234191  \n",
      "1    0.222347  \n",
      "2    0.229708  \n",
      "3         0.3  \n",
      "4    0.226151  \n",
      "..        ...  \n",
      "199  0.265782  \n",
      "200  0.154369  \n",
      "201  0.173542  \n",
      "202  0.167595  \n",
      "203       0.3  \n",
      "\n",
      "[204 rows x 15 columns]\n"
     ]
    }
   ],
   "source": [
    "numSamples = 204\n",
    "\n",
    "base_dir = os.path.abspath(os.path.join(os.getcwd(), '../..'))\n",
    "dataset = pd.read_csv(base_dir+'\\dataset.csv', header=None)\n",
    "# print(dataset)\n",
    "data_arr = dataset.to_numpy()\n",
    "# print(data_arr.shape)\n",
    "data_arr = data_arr.reshape(15, 204)\n",
    "# print(data_arr[0, :])\n",
    "data_arr = data_arr.T\n",
    "# print(data_arr[0, :])\n",
    "\n",
    "dataset = pd.DataFrame(data_arr, columns=['Patient', 'Direction', 'Magnitude', 'Cz_1', 'Cz_2',\n",
    "                                           'Cz_3', 'Cz_4', 'Agonist_1', 'Agonist_2', 'Agonist_3', \n",
    "                                           'Agonist_4', 'Agonist_5', 'Agonist_6', 'Agonist_7', 'Agonist_8'])\n",
    "dataset.to_csv(base_dir+'\\\\transformed_dataset.csv')"
   ]
  },
  {
   "cell_type": "code",
   "execution_count": null,
   "metadata": {},
   "outputs": [],
   "source": [
    "\n"
   ]
  }
 ],
 "metadata": {
  "kernelspec": {
   "display_name": "MLFinalProject",
   "language": "python",
   "name": "python3"
  },
  "language_info": {
   "codemirror_mode": {
    "name": "ipython",
    "version": 3
   },
   "file_extension": ".py",
   "mimetype": "text/x-python",
   "name": "python",
   "nbconvert_exporter": "python",
   "pygments_lexer": "ipython3",
   "version": "3.11.9"
  }
 },
 "nbformat": 4,
 "nbformat_minor": 2
}
