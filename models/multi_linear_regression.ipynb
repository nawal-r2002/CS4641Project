{
 "cells": [
  {
   "cell_type": "code",
   "execution_count": 58,
   "metadata": {},
   "outputs": [],
   "source": [
    "import pandas as pd\n",
    "import matplotlib.pyplot as plt\n",
    "import numpy as np\n",
    "import os\n",
    "from sklearn.model_selection import train_test_split\n",
    "from sklearn.linear_model import LinearRegression\n",
    "from sklearn.metrics import mean_absolute_error, mean_squared_error, r2_score\n",
    "\n",
    "# %pip install import_ipynb\n",
    "import import_ipynb"
   ]
  },
  {
   "cell_type": "code",
   "execution_count": 49,
   "metadata": {},
   "outputs": [],
   "source": [
    "numSamples = 204\n",
    "\n",
    "base_dir = os.path.abspath(os.path.join(os.getcwd(), '..'))\n",
    "dataset = pd.read_csv(base_dir+'\\_data\\\\transformed_dataset.csv')\n",
    "\n",
    "input = dataset.iloc[:, 4:8]\n",
    "output = dataset.iloc[:, 8:]\n",
    "# print(input)\n",
    "# print(output)\n",
    "input = input.to_numpy()\n",
    "output = output.to_numpy()\n",
    "Xtrain, Xtest, Ytrain, Ytest = train_test_split(input, output, test_size=0.3, train_size=0.7, random_state=0)"
   ]
  },
  {
   "cell_type": "markdown",
   "metadata": {},
   "source": [
    "### Multi-Linear Regression Implementation with PCA and Stats"
   ]
  },
  {
   "cell_type": "code",
   "execution_count": 50,
   "metadata": {},
   "outputs": [
    {
     "name": "stdout",
     "output_type": "stream",
     "text": [
      "Test= (62, 8)\n",
      "Pred= (62, 8)\n"
     ]
    }
   ],
   "source": [
    "from pca import runPCA\n",
    "pc_x = runPCA(Xtrain, Xtest, 2)\n",
    "pc_X_train = pc_x[0]\n",
    "pc_X_test = pc_x[1]\n",
    "scalingX = pc_x[3]\n",
    "\n",
    "pc_y = runPCA(Ytrain, Ytest, 2)\n",
    "pc_Y_train = pc_y[0]\n",
    "pc_Y_test = pc_y[1]\n",
    "compY = pc_y[2]\n",
    "scalingY = pc_y[3]\n",
    "\n",
    "mlr = LinearRegression()\n",
    "mlr.fit(pc_X_train, pc_Y_train)\n",
    "\n",
    "Y_pred_pca = mlr.predict(pc_X_test)\n",
    "\n",
    "# print(\"Y_test shape:\", Ytest.shape)\n",
    "# print(\"Y_pred_pca shape:\", Y_pred_pca.shape)\n",
    "\n",
    "Y_pred_pca_inverse = compY.inverse_transform(Y_pred_pca)\n",
    "Y_pred = scalingY.inverse_transform(Y_pred_pca_inverse)\n",
    "print(\"Test=\",Ytest.shape)\n",
    "print(\"Pred=\",Y_pred.shape)\n",
    "\n",
    "# print(\"Y_pred shape after inverse transform:\", Y_pred.shape)"
   ]
  },
  {
   "cell_type": "markdown",
   "metadata": {},
   "source": [
    "### Generate Metrics"
   ]
  },
  {
   "cell_type": "code",
   "execution_count": 53,
   "metadata": {},
   "outputs": [
    {
     "name": "stdout",
     "output_type": "stream",
     "text": [
      "MSE =  0.26263237398322015\n",
      "R2 Score =  -0.02385333835297762\n"
     ]
    }
   ],
   "source": [
    "mse = mean_squared_error(Ytest, Y_pred)\n",
    "print(\"MSE = \", mse)\n",
    "r2 = r2_score(Ytest, Y_pred)\n",
    "print(\"R2 Score = \", r2)"
   ]
  },
  {
   "cell_type": "markdown",
   "metadata": {},
   "source": [
    "### Generate Plots"
   ]
  },
  {
   "cell_type": "code",
   "execution_count": 61,
   "metadata": {},
   "outputs": [],
   "source": [
    "# plt.figure(figsize=(6, 5))\n",
    "# plt.scatter(Xtest, Ytest, label = 'Test Data')\n",
    "# plt.scatter(Xtrain, Ytrain, color=\"green\", label = 'Train Data' )\n",
    "# plt.plot(Xtest, Y_pred, color =\"red\", label ='Prediction')\n",
    "# plt.grid(True)\n",
    "# plt.show()"
   ]
  }
 ],
 "metadata": {
  "kernelspec": {
   "display_name": "MLFinalProject",
   "language": "python",
   "name": "python3"
  },
  "language_info": {
   "codemirror_mode": {
    "name": "ipython",
    "version": 3
   },
   "file_extension": ".py",
   "mimetype": "text/x-python",
   "name": "python",
   "nbconvert_exporter": "python",
   "pygments_lexer": "ipython3",
   "version": "3.11.9"
  }
 },
 "nbformat": 4,
 "nbformat_minor": 2
}
